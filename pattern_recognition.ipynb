{
  "nbformat": 4,
  "nbformat_minor": 0,
  "metadata": {
    "colab": {
      "provenance": []
    },
    "kernelspec": {
      "name": "python3",
      "display_name": "Python 3"
    },
    "language_info": {
      "name": "python"
    },
    "accelerator": "GPU",
    "gpuClass": "standard"
  },
  "cells": [
    {
      "cell_type": "code",
      "source": [
        "# importing libraries\n",
        "import numpy as np\n",
        "import torch\n",
        "import torch.nn as nn\n",
        "import torch.nn.functional as F\n",
        "import torch.optim as optim\n",
        "from torch.utils.data import Dataset, DataLoader, TensorDataset\n",
        "import scipy\n",
        "from scipy.stats import skew\n",
        "from sklearn.svm import SVC\n",
        "from sklearn import utils\n",
        "from sklearn.metrics import f1_score, accuracy_score, confusion_matrix\n"
      ],
      "metadata": {
        "id": "_Fk9bSPjxCXa"
      },
      "execution_count": 27,
      "outputs": []
    },
    {
      "cell_type": "code",
      "execution_count": 3,
      "metadata": {
        "colab": {
          "base_uri": "https://localhost:8080/"
        },
        "id": "EV3AaLXYuu6v",
        "outputId": "868a7e2f-5fcc-4af5-89fa-3592433b83b0"
      },
      "outputs": [
        {
          "output_type": "stream",
          "name": "stdout",
          "text": [
            "Mounted at /content/drive\n"
          ]
        }
      ],
      "source": [
        "from google.colab import drive\n",
        "drive.mount('/content/drive')"
      ]
    },
    {
      "cell_type": "code",
      "source": [
        "path='drive/MyDrive/CogAge Dataset/bbh/'"
      ],
      "metadata": {
        "id": "T405ejMvwsgk"
      },
      "execution_count": 4,
      "outputs": []
    },
    {
      "cell_type": "code",
      "source": [
        "train_msAcc = np.load(path+\"training/\"+\"trainMSAccelerometer.npy\")\n",
        "train_msGyro = np.load(path+\"training/\"+\"trainMSGyroscope.npy\")\n",
        "train_jinsAcc = np.load(path+\"training/\"+\"trainJinsAccelerometer.npy\")\n",
        "train_jinsGyro = np.load(path+\"training/\"+\"trainJinsGyroscope.npy\")\n",
        "train_Acc = np.load(path+\"training/\"+\"trainAccelerometer.npy\")\n",
        "train_Gyro = np.load(path+\"training/\"+\"trainGyroscope.npy\")\n",
        "train_Gravity = np.load(path+\"training/\"+\"trainGravity.npy\")\n",
        "train_Magneto = np.load(path+\"training/\"+\"trainMagnetometer.npy\")\n",
        "train_LinearAcc = np.load(path+\"training/\"+\"trainLinearAcceleration.npy\")\n",
        "train_labels = np.load(path+\"training/\"+\"trainLabels.npy\")\n",
        "\n",
        "test_msAcc = np.load(path+\"testing/\"+\"testMSAccelerometer.npy\")\n",
        "test_msGyro = np.load(path+\"testing/\"+\"testMSGyroscope.npy\")\n",
        "test_jinsAcc = np.load(path+\"testing/\"+\"testJinsAccelerometer.npy\")\n",
        "test_jinsGyro = np.load(path+\"testing/\"+\"testJinsGyroscope.npy\")\n",
        "test_Acc = np.load(path+\"testing/\"+\"testAccelerometer.npy\")\n",
        "test_Gyro = np.load(path+\"testing/\"+\"testGyroscope.npy\")\n",
        "test_Gravity = np.load(path+\"testing/\"+\"testGravity.npy\")\n",
        "test_Magneto = np.load(path+\"testing/\"+\"testMagnetometer.npy\")\n",
        "test_LinearAcc = np.load(path+\"testing/\"+\"testLinearAcceleration.npy\")\n",
        "test_labels = np.load(path+\"testing/\"+\"testLabels.npy\")"
      ],
      "metadata": {
        "id": "4CZOn7vhxZDX"
      },
      "execution_count": 42,
      "outputs": []
    },
    {
      "cell_type": "code",
      "source": [
        "#cheching shape of the dataset\n",
        "print(train_msAcc.shape)\n",
        "print(train_msGyro.shape)\n",
        "print(train_jinsAcc.shape)\n",
        "print(train_jinsGyro.shape)\n",
        "print(train_Acc.shape)\n",
        "print(train_Gyro.shape)\n",
        "print(train_LinearAcc.shape)\n",
        "print(train_Magneto.shape)\n",
        "print(train_Gravity.shape)\n",
        "print(train_labels.shape)\n",
        "\n",
        "print(test_msAcc.shape)\n",
        "print(test_msGyro.shape)\n",
        "print(test_jinsAcc.shape)\n",
        "print(test_jinsGyro.shape)\n",
        "print(test_Acc.shape)\n",
        "print(test_Gyro.shape)\n",
        "print(test_LinearAcc.shape)\n",
        "print(test_Magneto.shape)\n",
        "print(test_Gravity.shape)\n",
        "print(test_labels.shape)"
      ],
      "metadata": {
        "colab": {
          "base_uri": "https://localhost:8080/"
        },
        "id": "ADAJqY280JfO",
        "outputId": "774bebf2-9b10-4bcc-fbbe-61b2b5322be5"
      },
      "execution_count": 43,
      "outputs": [
        {
          "output_type": "stream",
          "name": "stdout",
          "text": [
            "(2284, 268, 3)\n",
            "(2284, 268, 3)\n",
            "(2284, 80, 3)\n",
            "(2284, 80, 3)\n",
            "(2284, 800, 3)\n",
            "(2284, 800, 3)\n",
            "(2284, 800, 3)\n",
            "(2284, 200, 3)\n",
            "(2284, 800, 3)\n",
            "(2284,)\n",
            "(2288, 268, 3)\n",
            "(2288, 268, 3)\n",
            "(2288, 80, 3)\n",
            "(2288, 80, 3)\n",
            "(2288, 800, 3)\n",
            "(2288, 800, 3)\n",
            "(2288, 800, 3)\n",
            "(2288, 200, 3)\n",
            "(2288, 800, 3)\n",
            "(2288,)\n"
          ]
        }
      ]
    },
    {
      "cell_type": "markdown",
      "source": [
        "**Feature Extraction**\n"
      ],
      "metadata": {
        "id": "WfKChCwlCheA"
      }
    },
    {
      "cell_type": "code",
      "source": [
        "#train features\n",
        "num_features = 7\n",
        "train_num_examples = np.shape(train_labels)[0]\n",
        "train_features = np.zeros((train_num_examples, 9*num_features, 3))\n",
        "#ms_accelerometer\n",
        "train_features[:,0,:] = np.mean(train_msAcc, axis=1)\n",
        "train_features[:,1,:] = np.max(train_msAcc, axis=1)\n",
        "train_features[:,2,:] = np.min(train_msAcc, axis=1)\n",
        "train_features[:,3,:] = np.std(train_msAcc, axis=1)\n",
        "train_features[:,4,:] = np.percentile(train_msAcc,70, axis=1)\n",
        "train_features[:,5,:] = scipy.stats.skew(train_msAcc, axis=1)\n",
        "train_features[:,6,:] = np.var(train_msAcc, axis=1)\n",
        "#ms_gyroscope\n",
        "train_features[:,7,:] = np.mean(train_msGyro, axis=1)\n",
        "train_features[:,8,:] = np.max(train_msGyro, axis=1)\n",
        "train_features[:,9,:] = np.min(train_msGyro, axis=1)\n",
        "train_features[:,10,:] = np.std(train_msGyro, axis=1)\n",
        "train_features[:,11,:] = np.percentile(train_msGyro, 70,axis=1)\n",
        "train_features[:,12,:] = scipy.stats.skew(train_msGyro, axis=1)\n",
        "train_features[:,13,:] = np.var(train_msGyro, axis=1)\n",
        "#jins_Accelerometer\n",
        "train_features[:,14,:] = np.mean(train_jinsAcc, axis=1)\n",
        "train_features[:,15,:] = np.max(train_jinsAcc, axis=1)\n",
        "train_features[:,16,:] = np.min(train_jinsAcc, axis=1)\n",
        "train_features[:,17,:] = np.std(train_jinsAcc, axis=1)\n",
        "train_features[:,18,:] = np.percentile(train_jinsAcc,70, axis=1)\n",
        "train_features[:,19,:] = scipy.stats.skew(train_jinsAcc, axis=1)\n",
        "train_features[:,20,:] = np.var(train_jinsAcc, axis=1)\n",
        "#jins_Gyroscope\n",
        "train_features[:,21,:] = np.mean(train_jinsGyro, axis=1)\n",
        "train_features[:,22,:] = np.max(train_jinsGyro, axis=1)\n",
        "train_features[:,23,:] = np.min(train_jinsGyro, axis=1)\n",
        "train_features[:,24,:] = np.std(train_jinsGyro, axis=1)\n",
        "train_features[:,25,:] = np.percentile(train_jinsGyro,70, axis=1)\n",
        "train_features[:,26,:] = scipy.stats.skew(train_jinsGyro, axis=1)\n",
        "train_features[:,27,:] = np.var(train_jinsGyro, axis=1)\n",
        "#Accelerometer\n",
        "train_features[:,28,:] = np.mean(train_Acc, axis=1)\n",
        "train_features[:,29,:] = np.max(train_Acc, axis=1)\n",
        "train_features[:,30,:] = np.min(train_Acc, axis=1)\n",
        "train_features[:,31,:] = np.std(train_Acc, axis=1)\n",
        "train_features[:,32,:] = np.percentile(train_Acc,70, axis=1)\n",
        "train_features[:,33,:] = scipy.stats.skew(train_Acc, axis=1)\n",
        "train_features[:,34,:] = np.var(train_Acc, axis=1)\n",
        "#Gyroscope\n",
        "train_features[:,35,:] = np.mean(train_Gyro, axis=1)\n",
        "train_features[:,36,:] = np.max(train_Gyro, axis=1)\n",
        "train_features[:,37,:] = np.min(train_Gyro, axis=1)\n",
        "train_features[:,38,:] = np.std(train_Gyro, axis=1)\n",
        "train_features[:,39,:] = np.percentile(train_Gyro,70, axis=1)\n",
        "train_features[:,40,:] = scipy.stats.skew(train_Gyro, axis=1)\n",
        "train_features[:,41,:] = np.var(train_Gyro, axis=1)\n",
        "#Magnetometer\n",
        "train_features[:,42,:] = np.mean(train_Magneto, axis=1)\n",
        "train_features[:,43,:] = np.max(train_Magneto, axis=1)\n",
        "train_features[:,44,:] = np.min(train_Magneto, axis=1)\n",
        "train_features[:,45,:] = np.std(train_Magneto, axis=1)\n",
        "train_features[:,46,:] = np.percentile(train_Magneto,70, axis=1)\n",
        "train_features[:,47,:] = scipy.stats.skew(train_Magneto, axis=1)\n",
        "train_features[:,48,:] = np.var(train_Magneto, axis=1)\n",
        "#Gravity\n",
        "train_features[:,49,:] = np.mean(train_Gravity, axis=1)\n",
        "train_features[:,50,:] = np.max(train_Gravity, axis=1)\n",
        "train_features[:,51,:] = np.min(train_Gravity, axis=1)\n",
        "train_features[:,52,:] = np.std(train_Gravity, axis=1)\n",
        "train_features[:,53,:] = np.percentile(train_Gravity,70, axis=1)\n",
        "train_features[:,54,:] = scipy.stats.skew(train_Gravity, axis=1)\n",
        "train_features[:,55,:] = np.var(train_Gravity, axis=1)\n",
        "#Linear Accelerometer\n",
        "train_features[:,56,:] = np.mean(train_LinearAcc, axis=1)\n",
        "train_features[:,57,:] = np.max(train_LinearAcc, axis=1)\n",
        "train_features[:,58,:] = np.min(train_LinearAcc, axis=1)\n",
        "train_features[:,59,:] = np.std(train_LinearAcc, axis=1)\n",
        "train_features[:,60,:] = np.percentile(train_LinearAcc,70, axis=1)\n",
        "train_features[:,61,:] = scipy.stats.skew(train_LinearAcc, axis=1)\n",
        "train_features[:,62,:] = np.var(train_LinearAcc, axis=1)\n"
      ],
      "metadata": {
        "id": "GVFtLVYRhTnB"
      },
      "execution_count": 44,
      "outputs": []
    },
    {
      "cell_type": "code",
      "source": [
        "#test features\n",
        "test_num_examples = np.shape(test_labels)[0]\n",
        "test_features = np.zeros((test_num_examples, 9*num_features, 3))\n",
        "\n",
        "\n",
        "test_features[:,0,:] = np.mean(test_msAcc, axis=1)\n",
        "test_features[:,1,:] = np.max(test_msAcc, axis=1)\n",
        "test_features[:,2,:] = np.min(test_msAcc, axis=1)\n",
        "test_features[:,3,:] = np.std(test_msAcc, axis=1)\n",
        "test_features[:,4,:] = np.percentile(test_msAcc,70, axis=1)\n",
        "test_features[:,5,:] = scipy.stats.skew(test_msAcc, axis=1)\n",
        "test_features[:,6,:] = np.var(test_msAcc, axis=1)\n",
        "\n",
        "\n",
        "test_features[:,7,:] = np.mean(test_msGyro, axis=1)\n",
        "test_features[:,8,:] = np.max(test_msGyro, axis=1)\n",
        "test_features[:,9,:] = np.min(test_msGyro, axis=1)\n",
        "test_features[:,10,:] = np.std(test_msGyro, axis=1)\n",
        "test_features[:,11,:] = np.percentile(test_msGyro, 70,axis=1)\n",
        "test_features[:,12,:] = scipy.stats.skew(test_msGyro, axis=1)\n",
        "test_features[:,13,:] = np.var(test_msGyro, axis=1)\n",
        "\n",
        "test_features[:,14,:] = np.mean(test_jinsAcc, axis=1)\n",
        "test_features[:,15,:] = np.max(test_jinsAcc, axis=1)\n",
        "test_features[:,16,:] = np.min(test_jinsAcc, axis=1)\n",
        "test_features[:,17,:] = np.std(test_jinsAcc, axis=1)\n",
        "test_features[:,18,:] = np.percentile(test_jinsAcc,70, axis=1)\n",
        "test_features[:,19,:] = scipy.stats.skew(test_jinsAcc, axis=1)\n",
        "test_features[:,20,:] = np.var(test_jinsAcc, axis=1)\n",
        "\n",
        "test_features[:,21,:] = np.mean(test_jinsGyro, axis=1)\n",
        "test_features[:,22,:] = np.max(test_jinsGyro, axis=1)\n",
        "test_features[:,23,:] = np.min(test_jinsGyro, axis=1)\n",
        "test_features[:,24,:] = np.std(test_jinsGyro, axis=1)\n",
        "test_features[:,25,:] = np.percentile(test_jinsGyro,70, axis=1)\n",
        "test_features[:,26,:] = scipy.stats.skew(test_jinsGyro, axis=1)\n",
        "test_features[:,27,:] = np.var(test_jinsGyro, axis=1)\n",
        "\n",
        "test_features[:,28,:] = np.mean(test_Acc, axis=1)\n",
        "test_features[:,29,:] = np.max(test_Acc, axis=1)\n",
        "test_features[:,30,:] = np.min(test_Acc, axis=1)\n",
        "test_features[:,31,:] = np.std(test_Acc, axis=1)\n",
        "test_features[:,32,:] = np.percentile(test_Acc,70, axis=1)\n",
        "test_features[:,33,:] = scipy.stats.skew(test_Acc, axis=1)\n",
        "test_features[:,34,:] = np.var(test_Acc, axis=1)\n",
        "\n",
        "\n",
        "test_features[:,35,:] = np.mean(test_Gyro, axis=1)\n",
        "test_features[:,36,:] = np.max(test_Gyro, axis=1)\n",
        "test_features[:,37,:] = np.min(test_Gyro, axis=1)\n",
        "test_features[:,38,:] = np.std(test_Gyro, axis=1)\n",
        "test_features[:,39,:] = np.percentile(test_Gyro,70, axis=1)\n",
        "test_features[:,40,:] = scipy.stats.skew(test_Gyro, axis=1)\n",
        "test_features[:,41,:] = np.var(test_Gyro, axis=1)\n",
        "\n",
        "test_features[:,42,:] = np.mean(test_Magneto, axis=1)\n",
        "test_features[:,43,:] = np.max(test_Magneto, axis=1)\n",
        "test_features[:,44,:] = np.min(test_Magneto, axis=1)\n",
        "test_features[:,45,:] = np.std(test_Magneto, axis=1)\n",
        "test_features[:,46,:] = np.percentile(test_Magneto,70, axis=1)\n",
        "test_features[:,47,:] = scipy.stats.skew(test_Magneto, axis=1)\n",
        "test_features[:,48,:] = np.var(test_Magneto, axis=1)\n",
        "\n",
        "test_features[:,49,:] = np.mean(test_Gravity, axis=1)\n",
        "test_features[:,50,:] = np.max(test_Gravity, axis=1)\n",
        "test_features[:,51,:] = np.min(test_Gravity, axis=1)\n",
        "test_features[:,52,:] = np.std(test_Gravity, axis=1)\n",
        "test_features[:,53,:] = np.percentile(test_Gravity,70, axis=1)\n",
        "test_features[:,54,:] = scipy.stats.skew(test_Gravity, axis=1)\n",
        "test_features[:,55,:] = np.var(test_Gravity, axis=1)\n",
        "\n",
        "test_features[:,56,:] = np.mean(test_LinearAcc, axis=1)\n",
        "test_features[:,57,:] = np.max(test_LinearAcc, axis=1)\n",
        "test_features[:,58,:] = np.min(test_LinearAcc, axis=1)\n",
        "test_features[:,59,:] = np.std(test_LinearAcc, axis=1)\n",
        "test_features[:,60,:] = np.percentile(test_LinearAcc,70, axis=1)\n",
        "test_features[:,61,:] = scipy.stats.skew(test_LinearAcc, axis=1)\n",
        "test_features[:,62,:] = np.var(test_LinearAcc, axis=1)\n"
      ],
      "metadata": {
        "id": "U3Dmh-HurZsl"
      },
      "execution_count": 45,
      "outputs": []
    },
    {
      "cell_type": "code",
      "source": [
        "print(np.shape(train_features))\n",
        "train_features_reshaped = np.reshape(train_features, (np.shape(train_features)[0], np.shape(train_features)[1]*np.shape(train_features)[2] ))\n",
        "print(np.shape(train_features_reshaped))\n",
        "\n",
        "\n",
        "print(np.shape(test_features))\n",
        "test_features_reshaped = np.reshape(test_features, (np.shape(test_features)[0], np.shape(test_features)[1]*np.shape(test_features)[2] ))\n",
        "print(np.shape(test_features_reshaped))\n"
      ],
      "metadata": {
        "colab": {
          "base_uri": "https://localhost:8080/"
        },
        "id": "52qA4C9VslPj",
        "outputId": "7adc917e-0741-4378-d692-44b5b0a38e34"
      },
      "execution_count": 46,
      "outputs": [
        {
          "output_type": "stream",
          "name": "stdout",
          "text": [
            "(2284, 63, 3)\n",
            "(2284, 189)\n",
            "(2288, 63, 3)\n",
            "(2288, 189)\n"
          ]
        }
      ]
    },
    {
      "cell_type": "code",
      "execution_count": 47,
      "metadata": {
        "colab": {
          "base_uri": "https://localhost:8080/"
        },
        "id": "HAkVG-FbL7Co",
        "outputId": "410f7947-a2a9-43b3-d82d-bfd5d1303ffb"
      },
      "outputs": [
        {
          "output_type": "stream",
          "name": "stdout",
          "text": [
            "   C = 1.0 \n",
            "   Average F1-score = 0.4686\n",
            "   Test accuracy = 47.07 %\n",
            "   Weighted F1-score = 0.4674\n",
            "   All F1-scores:\n",
            "[0.75609756 0.7037037  0.22222222 0.57142857 0.38       0.30434783\n",
            " 0.40707965 0.22222222 0.04819277 0.43478261 0.5        0.51428571\n",
            " 0.77142857 0.55913978 0.50746269 0.8        0.52941176 0.74725275\n",
            " 0.45238095 0.37681159 0.38       0.24242424 0.39583333 0.1971831\n",
            " 0.18604651 0.52380952 0.35897436 0.58139535 0.55       0.38961039\n",
            " 0.38095238 0.46153846 0.55555556 0.56074766 0.20869565 0.51546392\n",
            " 0.60869565 0.31746032 0.61333333 0.69811321 0.52525253 0.41269841\n",
            " 0.4        0.55263158 0.69811321 0.39506173 0.29545455 0.27777778\n",
            " 0.59090909 0.46153846 0.6        0.57142857 0.28235294 0.64197531\n",
            " 0.53125   ]\n",
            "   Confusion Matrix:\n",
            "[[31  0  1 ...  0  0  0]\n",
            " [ 0 38  2 ...  1  0  0]\n",
            " [ 1  8 10 ...  2  0  0]\n",
            " ...\n",
            " [ 0  1  2 ... 12  0  0]\n",
            " [ 0  0  0 ...  0 26  0]\n",
            " [ 0  0  0 ...  0  0 17]]\n",
            "-------------------------------------------------------\n"
          ]
        }
      ],
      "source": [
        "#classification using SVM\n",
        "classfier = SVC( c=1.0,kernel='linear')  \n",
        "classfier.fit(train_features_reshaped,train_labels)\n",
        "estimatedLabels = classfier.predict(test_features_reshaped)\n",
        "#Evaluation of model\n",
        "accuracy = accuracy_score(test_labels,estimatedLabels)*100\n",
        "weightedF1 = f1_score(test_labels,estimatedLabels,average='weighted')\n",
        "averageF1 = f1_score(test_labels,estimatedLabels,average='macro')\n",
        "allF1Scores = f1_score(test_labels,estimatedLabels,average=None)\n",
        "conf_matrix = confusion_matrix(test_labels,estimatedLabels)\n",
        "#  results\n",
        "print('   Average F1-score = %.4f' % (averageF1))\n",
        "print('   Test accuracy = %.2f %%' % (accuracy))\n",
        "print('   Weighted F1-score = %.4f' % (weightedF1))\n",
        "print('   All F1-scores:')\n",
        "print(allF1Scores)\n",
        "print('   Confusion Matrix:')\n",
        "print(conf_matrix)\n",
        "\n",
        "print('-------------------------------------------------------')\n",
        "\n"
      ]
    },
    {
      "cell_type": "markdown",
      "source": [
        "Neural Network attempt\n"
      ],
      "metadata": {
        "id": "jkjbY4TE2kT2"
      }
    },
    {
      "cell_type": "code",
      "source": [
        "train_msAcc = np.reshape(train_msAcc, (train_msAcc.shape[0],train_msAcc.shape[1]*train_msAcc.shape[2]))\n",
        "train_msGyro = np.reshape(train_msGyro, (train_msGyro.shape[0],train_msGyro.shape[1]*train_msGyro.shape[2]))\n",
        "train_jinsAcc = np.reshape(train_jinsAcc, (train_jinsAcc.shape[0],train_jinsAcc.shape[1]*train_jinsAcc.shape[2]))\n",
        "train_jinsGyro = np.reshape(train_jinsGyro, (train_jinsGyro.shape[0],train_jinsGyro.shape[1]*train_jinsGyro.shape[2]))\n",
        "train_Acc = np.reshape(train_Acc, (train_Acc.shape[0],train_Acc.shape[1]*train_Acc.shape[2]))\n",
        "train_Gyro = np.reshape(train_Gyro, (train_Gyro.shape[0],train_Gyro.shape[1]*train_Gyro.shape[2]))\n",
        "train_Magneto = np.reshape(train_Magneto, (train_Magneto.shape[0],train_Magneto.shape[1]*train_Magneto.shape[2]))\n",
        "train_LinearAcc = np.reshape(train_LinearAcc, (train_LinearAcc.shape[0],train_LinearAcc.shape[1]*train_LinearAcc.shape[2]))\n",
        "train_Gravity = np.reshape(train_Gravity, (train_Gravity.shape[0],train_Gravity.shape[1]*train_Gravity.shape[2]))\n",
        "\n",
        "test_msAcc = np.reshape(test_msAcc, (test_msAcc.shape[0],test_msAcc.shape[1]*test_msAcc.shape[2]))\n",
        "test_msGyro = np.reshape(test_msGyro, (test_msGyro.shape[0],test_msGyro.shape[1]*test_msGyro.shape[2]))\n",
        "test_jinsAcc = np.reshape(test_jinsAcc, (test_jinsAcc.shape[0],test_jinsAcc.shape[1]*test_jinsAcc.shape[2]))\n",
        "test_jinsGyro = np.reshape(test_jinsGyro, (test_jinsGyro.shape[0],test_jinsGyro.shape[1]*test_jinsGyro.shape[2]))\n",
        "test_Acc = np.reshape(test_Acc, (test_Acc.shape[0],test_Acc.shape[1]*test_Acc.shape[2]))\n",
        "test_Gyro = np.reshape(test_Gyro, (test_Gyro.shape[0],test_Gyro.shape[1]*test_Gyro.shape[2]))\n",
        "test_Magneto = np.reshape(test_Magneto, (test_Magneto.shape[0],test_Magneto.shape[1]*test_Magneto.shape[2]))\n",
        "test_LinearAcc = np.reshape(test_LinearAcc, (test_LinearAcc.shape[0],test_LinearAcc.shape[1]*test_LinearAcc.shape[2]))\n",
        "test_Gravity = np.reshape(test_Gravity, (test_Gravity.shape[0],test_Gravity.shape[1]*test_Gravity.shape[2]))\n",
        "\n",
        "print(train_msAcc.shape)\n",
        "print(train_msGyro.shape)\n",
        "print(train_jinsAcc.shape)\n",
        "print(train_jinsGyro.shape)\n",
        "print(train_Acc.shape)\n",
        "print(train_Gyro.shape)\n",
        "print(train_Magneto.shape)\n",
        "print(train_LinearAcc.shape)\n",
        "print(train_Gravity.shape)\n",
        "print(test_msAcc.shape)\n",
        "print(test_msGyro.shape)"
      ],
      "metadata": {
        "colab": {
          "base_uri": "https://localhost:8080/"
        },
        "id": "cjDIFE2E41pK",
        "outputId": "344f3319-7b6b-48f3-ef57-f9e24efa99d0"
      },
      "execution_count": 50,
      "outputs": [
        {
          "output_type": "stream",
          "name": "stdout",
          "text": [
            "(2284, 804)\n",
            "(2284, 804)\n",
            "(2284, 240)\n",
            "(2284, 240)\n",
            "(2284, 2400)\n",
            "(2284, 2400)\n",
            "(2284, 600)\n",
            "(2284, 2400)\n",
            "(2284, 2400)\n",
            "(2288, 804)\n",
            "(2288, 804)\n"
          ]
        }
      ]
    },
    {
      "cell_type": "code",
      "execution_count": 51,
      "metadata": {
        "id": "qPA0BF53p2cc",
        "outputId": "47b0265c-a7ee-43cd-f0d5-b41cbbc88697",
        "colab": {
          "base_uri": "https://localhost:8080/"
        }
      },
      "outputs": [
        {
          "output_type": "stream",
          "name": "stdout",
          "text": [
            "[47 47 22 ... 33 29 28]\n",
            "[0 0 0 ... 0 0 0]\n",
            "[17 10 34 ... 29 34 10]\n",
            "[0 0 0 ... 0 0 0]\n"
          ]
        }
      ],
      "source": [
        "print(train_labels)\n",
        "lbl36 = train_labels==36\n",
        "train_labels2 = lbl36.astype(int)\n",
        "print(train_labels2)\n",
        "\n",
        "print(test_labels)\n",
        "lbl36 = test_labels==36\n",
        "test_labels2 = lbl36.astype(int)\n",
        "print(test_labels2)\n"
      ]
    },
    {
      "cell_type": "code",
      "source": [
        "# class CogAgeDataset(Dataset):\n",
        "#     def __init__(self, cd_train_features,cd_labels ):\n",
        "#         self.test_features_reshaped = cd_train_features\n",
        "#         self.labels = cd_labels\n",
        "\n",
        "#     def __len__(self):\n",
        "#         return len(self.train_features)\n",
        "\n",
        "#     def __getitem__(self, index):\n",
        "#         return (self.train_features[index],self.labels[index])"
      ],
      "metadata": {
        "id": "UG1JlHVi8aWV"
      },
      "execution_count": 13,
      "outputs": []
    },
    {
      "cell_type": "code",
      "source": [
        "# class ActivityMonitoring_FC(nn.Module):\n",
        "\n",
        "#     def __init__(self):\n",
        "#         super(ActivityMonitoring_FC, self).__init__()\n",
        "        \n",
        "#         self.fc11 = nn.Linear(189 ,2048)  #acc # flatten inpu dimension\n",
        "        \n",
        "#         self.fc21 = nn.Linear(2048 , 1024)\n",
        "        \n",
        "#         self.fc3 = nn.Linear(1024 , 512)\n",
        "#         self.fc4 = nn.Linear(512 , 64)\n",
        "#         self.output = nn.Linear(64 , 9)\n",
        "\n",
        "#         self.dropout1 = nn.Dropout(p=0.3)\n",
        "#         self.dropout2 = nn.Dropout(p=0.3)\n",
        "\n",
        "#     def forward(self, train_features):\n",
        "\n",
        "#         #print(\"input shape:\", train_features.shape)\n",
        "#         train_features = self.fc11(train_features) #z-vector\n",
        "#         train_features = F.relu(train_features)\n",
        "#         train_features = self.fc21(train_features)\n",
        "#         train_features = F.relu(train_features)\n",
        "\n",
        "#         #print(\"train_features.shape:\", train_features.shape)\n",
        "#         act = F.relu(self.fc3(train_features))\n",
        "#         #print(\"act shape after fc3: \", act.shape)\n",
        "        \n",
        "#         act = self.dropout1(act)\n",
        "#         act = F.relu(self.fc4(act))\n",
        "#         #print(\"act shape after fc4: \", act.shape)\n",
        "#         act = self.dropout2(act)\n",
        "#         act_out = self.output(act)\n",
        "#         #print(\"act_out shape after output layer: \", act_out.shape)\n",
        "\n",
        "#         return act_out\n",
        "\n"
      ],
      "metadata": {
        "id": "qmAUk7-481il"
      },
      "execution_count": 14,
      "outputs": []
    },
    {
      "cell_type": "code",
      "source": [
        "class CogAgeDataset(Dataset):\n",
        "    def __init__(self, cd_msAcc, cd_msGyro,cd_jinsAcc, cd_jinsGyro,cd_Acc, cd_Gyro,cd_Magneto,cd_LinearAcc, cd_Gravity, cd_labels ):\n",
        "        self.msAcc = cd_msAcc\n",
        "        self.msGyro = cd_msGyro\n",
        "        self.labels = cd_labels\n",
        "        self.jinsAcc = cd_jinsAcc\n",
        "        self.jinsGyro = cd_jinsGyro\n",
        "        self.Magneto = cd_Magneto\n",
        "        self.Acc = cd_Acc\n",
        "        self.Gyro = cd_Gyro\n",
        "        self.LinearAcc = cd_LinearAcc\n",
        "        self.Gravity = cd_Gravity\n",
        "        self.Magneto = cd_Magneto\n",
        "\n",
        "        \n",
        "    def __len__(self):\n",
        "        return len(self.msAcc)\n",
        "\n",
        "    def __getitem__(self, index):\n",
        "        return (self.Acc[index], self.Gyro[index], self.Magneto[index],self.LinearAcc[index], self.Gravity[index], self.jinsAcc[index],self.jinsGyro[index],self.msAcc[index], self.msGyro[index], self.labels[index])"
      ],
      "metadata": {
        "id": "jJh2w_Y91k_C"
      },
      "execution_count": 52,
      "outputs": []
    },
    {
      "cell_type": "code",
      "source": [
        "class ActivityMonitoring_FC(nn.Module):\n",
        "\n",
        "    def __init__(self):\n",
        "        super(ActivityMonitoring_FC, self).__init__()\n",
        "        \n",
        "        self.fc11 = nn.Linear(2400 , 1024)  #ms_acc # flatten inpu dimension\n",
        "        self.fc12 = nn.Linear(2400 , 1024) #ms_gyro \n",
        "        self.fc13 = nn.Linear(2400 , 1024) #jinsAcc\n",
        "        self.fc14 = nn.Linear(600 , 1024) #jinsGYRO\n",
        "        self.fc15 = nn.Linear(2400 , 1024) #Acc\n",
        "        self.fc16 = nn.Linear(240 , 1024) #gyro\n",
        "        self.fc17 = nn.Linear(240 , 1024) #mag\n",
        "        self.fc18 = nn.Linear(804 , 1024) #LA\n",
        "        self.fc19 = nn.Linear(804 , 1024) #grav\n",
        "\n",
        "\n",
        "        \n",
        "        self.fc21 = nn.Linear(1024 , 1024)\n",
        "        self.fc22 = nn.Linear(1024 , 1024)\n",
        "        self.fc23 = nn.Linear(1024 , 1024)\n",
        "        self.fc24 = nn.Linear(1024 , 1024)\n",
        "        self.fc25 = nn.Linear(1024 , 1024)\n",
        "        self.fc26 = nn.Linear(1024 , 1024)\n",
        "        self.fc27 = nn.Linear(1024 , 1024)\n",
        "        self.fc28 = nn.Linear(1024 , 1024)\n",
        "        self.fc29 = nn.Linear(1024 , 1024)\n",
        "        \n",
        "        self.fc3 = nn.Linear(1024 , 1024)\n",
        "        self.fc4 = nn.Linear(1024 , 64)\n",
        "        self.output = nn.Linear(64 , 2)\n",
        "\n",
        "        self.dropout1 = nn.Dropout(p=0.9)\n",
        "        self.dropout2 = nn.Dropout(p=0.9)\n",
        "\n",
        "    def forward(self, msAcc, msGyro,jinsAcc,jinsGyro,Acc,Gyro,Magneto,LinearAcc,Gravity):\n",
        "\n",
        "        print(\"input shape:\", msAcc.shape)\n",
        "        msAcc = self.fc11(msAcc) #z-vector\n",
        "        msAcc = F.relu(msAcc)\n",
        "        msAcc = self.fc21(msAcc)\n",
        "        msAcc = F.relu(msAcc)\n",
        "\n",
        "        print(\"msAcc.shape:\", msAcc.shape)\n",
        "\n",
        "\n",
        "        print(\"input shape:\", msGyro.shape)\n",
        "        msGyro = self.fc12(msGyro)\n",
        "        msGyro = F.relu(msGyro)\n",
        "        msGyro = self.fc22(msGyro)\n",
        "        msGyro = F.relu(msGyro)\n",
        "\n",
        "        print(\"msGyro.shape:\", msGyro.shape)\n",
        "\n",
        "        print(\"input shape:\", jinsAcc.shape)\n",
        "        jinsAcc = self.fc13(jinsAcc) #z-vector\n",
        "        jinsAcc = F.relu(jinsAcc)\n",
        "        jinsAcc = self.fc23(jinsAcc)\n",
        "        jinsAcc = F.relu(jinsAcc)\n",
        "\n",
        "        print(\"jinsAcc.shape:\", jinsAcc.shape)\n",
        "\n",
        "\n",
        "        print(\"input shape:\", jinsGyro.shape)\n",
        "        jinsGyro = self.fc14(jinsGyro)\n",
        "        jinsGyro = F.relu(jinsGyro)\n",
        "        jinsGyro = self.fc24(jinsGyro)\n",
        "        jinsGyro = F.relu(jinsGyro)\n",
        "\n",
        "        print(\"jinGyro.shape:\", jinsGyro.shape)\n",
        "        \n",
        "        print(\"input shape:\", Acc.shape)\n",
        "        Acc = self.fc15(Acc) #z-vector\n",
        "        Acc = F.relu(Acc)\n",
        "        Acc = self.fc25(Acc)\n",
        "        Acc = F.relu(Acc)\n",
        "\n",
        "        print(\"Acc.shape:\", Acc.shape)\n",
        "\n",
        "\n",
        "        print(\"input shape:\", Gyro.shape)\n",
        "        Gyro = self.fc16(Gyro)\n",
        "        Gyro = F.relu(Gyro)\n",
        "        Gyro = self.fc26(Gyro)\n",
        "        Gyro = F.relu(Gyro)\n",
        "\n",
        "        print(\"Gyro.shape:\", Gyro.shape)\n",
        "\n",
        "        print(\"input shape:\", Magneto.shape)\n",
        "        Magneto = self.fc17(Magneto)\n",
        "        Magneto = F.relu(Magneto)\n",
        "        Magneto = self.fc27(Magneto)\n",
        "        Magneto = F.relu(Magneto)\n",
        "\n",
        "        print(\"Magneto.shape:\", Magneto.shape)\n",
        "\n",
        "        print(\"input shape:\", LinearAcc.shape)\n",
        "        LinearAcc = self.fc18(LinearAcc) #z-vector\n",
        "        LinearAcc = F.relu(LinearAcc)\n",
        "        LinearAcc = self.fc28(LinearAcc)\n",
        "        LinearAcc = F.relu(LinearAcc)\n",
        "\n",
        "        print(\"LinearAcc.shape:\", LinearAcc.shape)\n",
        "\n",
        "\n",
        "        print(\"input shape:\", Gravity.shape)\n",
        "        Gravity = self.fc19(Gravity)\n",
        "        Gravity = F.relu(Gravity)\n",
        "        Gravity = self.fc29(Gravity)\n",
        "        Gravity = F.relu(Gravity)\n",
        "\n",
        "        print(\"Gravity.shape:\", Gravity.shape)\n",
        "        \n",
        "        \n",
        "\n",
        "        joint_channels = torch.cat(( msAcc, msGyro,jinsAcc,jinsGyro,Acc,Gyro,Magneto,LinearAcc,Gravity), 0)\n",
        "        print(\"joint_channels.shape after concat:\", joint_channels.shape)\n",
        "        # joint_channels = self.dropout1(joint_channels)\n",
        "        # print(\"joint_channels.shape after concat:\", joint_channels.shape)\n",
        "        \n",
        "        act = F.relu(self.fc3(joint_channels))\n",
        "        print(\"act shape after fc3: \", act.shape)\n",
        "        \n",
        "        act = self.dropout1(act)\n",
        "        act = F.relu(self.fc4(act))\n",
        "        print(\"act shape after fc4: \", act.shape)\n",
        "        act = self.dropout2(act)\n",
        "        act_out = self.output(act)\n",
        "        print(\"act_out shape after output layer: \", act_out.shape)\n",
        "\n",
        "        return act_out\n",
        "\n"
      ],
      "metadata": {
        "id": "k3xmZGaR4DFF"
      },
      "execution_count": 53,
      "outputs": []
    },
    {
      "cell_type": "code",
      "source": [
        "#defining loss_fn, optimizer, model\n",
        "lr = 0.01\n",
        "act_model = ActivityMonitoring_FC()\n",
        "optimizer_act = optim.Adam(act_model.parameters(), lr=lr) #for state activities\n",
        "loss_fn = nn.CrossEntropyLoss()\n",
        "batch_size = 1024"
      ],
      "metadata": {
        "id": "pZTotFeD8ABY"
      },
      "execution_count": 54,
      "outputs": []
    },
    {
      "cell_type": "code",
      "source": [
        "train_dataset = CogAgeDataset(train_msAcc, train_msGyro,train_jinsAcc,train_jinsGyro,train_Acc,train_Gyro,train_LinearAcc,train_Magneto,train_Gravity, train_labels2)\n",
        "train_loader = DataLoader(train_dataset, batch_size=batch_size, shuffle=True)\n",
        "\n",
        "test_dataset = CogAgeDataset(test_msAcc, test_msGyro,test_jinsAcc,test_jinsGyro,test_Acc,test_Gyro,test_LinearAcc,test_Magneto,test_Gravity, test_labels2)\n",
        "test_loader = DataLoader(test_dataset, batch_size=batch_size, shuffle=False)"
      ],
      "metadata": {
        "id": "JCZnge7J8D1U"
      },
      "execution_count": 55,
      "outputs": []
    },
    {
      "cell_type": "code",
      "source": [
        "#training = 0\n",
        "samples_tr = 0\n",
        "correct_tr = 0\n",
        "act_model.train()\n",
        "n_epochs = 5\n",
        "for epoch in range(n_epochs): #training loop\n",
        "    batch_losses = []\n",
        "\n",
        "    act_sample_tr = 0\n",
        "    act_sample_ts = 0\n",
        "    for msAcc_tr, msGyro_tr,jinsAcc_tr,jinsGyro_tr,Acc_tr,Gyro_tr,Magneto_try,LinearAcc_tr,Gravity_tr, labels_tr in train_loader:\n",
        "            # print(\"Dimensions of each sensor modality:\")\n",
        "            # print(f\"msAcc_tr: {msAcc_tr.shape}\")\n",
        "            # print(f\"msGyro_tr: {msGyro_tr.shape}\")\n",
        "            # print(f\"bbh_labels_tr: {labels_tr.shape}\")\n",
        "\n",
        "            \n",
        "            #labels_tr  = labels_tr.to(device)\n",
        "            \n",
        "            optimizer_act.zero_grad()\n",
        "\n",
        "            labels_predicted = act_model(msAcc_tr, msGyro_tr,jinsAcc_tr,jinsGyro_tr,Acc_tr,Gyro_tr,Magneto_try,LinearAcc_tr,Gravity_tr)\n",
        "            #labels_predicted = labels_predicted.flatten()\n",
        "            labels_tr = labels_tr.type(torch.LongTensor)\n",
        "\n",
        "            _, predicted_tr = torch.max(labels_predicted,1)\n",
        "            #print(\"predicted_tr.shape\", predicted_tr.shape)   \n",
        "\n",
        "            samples_tr += labels_tr.size(0)\n",
        "            correct_tr += (predicted_tr[1] == labels_tr).sum().item()\n",
        "            print('labes predicted',labels_predicted.shape)\n",
        "            print('labes predicted-tr',labels_tr.shape)\n",
        "\n",
        "            loss = loss_fn(labels_predicted, labels_tr)\n",
        "            loss = loss.unsqueeze(0)\n",
        "            epoch_loss = loss.item()\n",
        "            print(\"Epoch, Loss:\" , epoch,\", \", epoch_loss)\n",
        "            batch_losses.append(loss.item())\n",
        "            \n",
        "            loss.backward()\n",
        "            optimizer_act.step()\n",
        "\n",
        "    act_loss = sum(batch_losses)/len(batch_losses)\n",
        "        #average_loss[1].append(bbh_loss)\n",
        "    accr = 100.0 * correct_tr / samples_tr\n",
        "\n",
        "    print(f\"epoch: {epoch}\")\n",
        "    print(f\"Training: batch_loss: {act_loss:.3f}, Accuracy: {accr:.3f}\")\n",
        "    #print(f\"Training: batch_loss: {act_loss:.3f}, {state_correct_tr}/{state_samples_tr}, state_acc: {state_acc:.3f}%,  bbh_loss: {bbh_loss:.3f}, {bbh_correct_tr}/{bbh_samples_tr} , bbh_acc: {bbh_acc:.3f}%\")\n",
        "\n",
        " "
      ],
      "metadata": {
        "colab": {
          "base_uri": "https://localhost:8080/",
          "height": 814
        },
        "id": "PnKPqjm99HjU",
        "outputId": "37a43d52-52b0-4cd1-bd5f-a827b40d6e53"
      },
      "execution_count": 57,
      "outputs": [
        {
          "output_type": "stream",
          "name": "stdout",
          "text": [
            "input shape: torch.Size([1024, 2400])\n",
            "msAcc.shape: torch.Size([1024, 1024])\n",
            "input shape: torch.Size([1024, 2400])\n",
            "msGyro.shape: torch.Size([1024, 1024])\n",
            "input shape: torch.Size([1024, 2400])\n",
            "jinsAcc.shape: torch.Size([1024, 1024])\n",
            "input shape: torch.Size([1024, 600])\n",
            "jinGyro.shape: torch.Size([1024, 1024])\n",
            "input shape: torch.Size([1024, 2400])\n",
            "Acc.shape: torch.Size([1024, 1024])\n",
            "input shape: torch.Size([1024, 240])\n",
            "Gyro.shape: torch.Size([1024, 1024])\n",
            "input shape: torch.Size([1024, 240])\n",
            "Magneto.shape: torch.Size([1024, 1024])\n",
            "input shape: torch.Size([1024, 804])\n",
            "LinearAcc.shape: torch.Size([1024, 1024])\n",
            "input shape: torch.Size([1024, 804])\n",
            "Gravity.shape: torch.Size([1024, 1024])\n",
            "joint_channels.shape after concat: torch.Size([9216, 1024])\n",
            "act shape after fc3:  torch.Size([9216, 1024])\n",
            "act shape after fc4:  torch.Size([9216, 64])\n",
            "act_out shape after output layer:  torch.Size([9216, 2])\n",
            "labes predicted torch.Size([9216, 2])\n",
            "labes predicted-tr torch.Size([1024])\n"
          ]
        },
        {
          "output_type": "error",
          "ename": "ValueError",
          "evalue": "ignored",
          "traceback": [
            "\u001b[0;31m---------------------------------------------------------------------------\u001b[0m",
            "\u001b[0;31mValueError\u001b[0m                                Traceback (most recent call last)",
            "\u001b[0;32m<ipython-input-57-e553695d65ac>\u001b[0m in \u001b[0;36m<module>\u001b[0;34m\u001b[0m\n\u001b[1;32m     32\u001b[0m             \u001b[0mprint\u001b[0m\u001b[0;34m(\u001b[0m\u001b[0;34m'labes predicted-tr'\u001b[0m\u001b[0;34m,\u001b[0m\u001b[0mlabels_tr\u001b[0m\u001b[0;34m.\u001b[0m\u001b[0mshape\u001b[0m\u001b[0;34m)\u001b[0m\u001b[0;34m\u001b[0m\u001b[0;34m\u001b[0m\u001b[0m\n\u001b[1;32m     33\u001b[0m \u001b[0;34m\u001b[0m\u001b[0m\n\u001b[0;32m---> 34\u001b[0;31m             \u001b[0mloss\u001b[0m \u001b[0;34m=\u001b[0m \u001b[0mloss_fn\u001b[0m\u001b[0;34m(\u001b[0m\u001b[0mlabels_predicted\u001b[0m\u001b[0;34m,\u001b[0m \u001b[0mlabels_tr\u001b[0m\u001b[0;34m)\u001b[0m\u001b[0;34m\u001b[0m\u001b[0;34m\u001b[0m\u001b[0m\n\u001b[0m\u001b[1;32m     35\u001b[0m             \u001b[0mloss\u001b[0m \u001b[0;34m=\u001b[0m \u001b[0mloss\u001b[0m\u001b[0;34m.\u001b[0m\u001b[0munsqueeze\u001b[0m\u001b[0;34m(\u001b[0m\u001b[0;36m0\u001b[0m\u001b[0;34m)\u001b[0m\u001b[0;34m\u001b[0m\u001b[0;34m\u001b[0m\u001b[0m\n\u001b[1;32m     36\u001b[0m             \u001b[0mepoch_loss\u001b[0m \u001b[0;34m=\u001b[0m \u001b[0mloss\u001b[0m\u001b[0;34m.\u001b[0m\u001b[0mitem\u001b[0m\u001b[0;34m(\u001b[0m\u001b[0;34m)\u001b[0m\u001b[0;34m\u001b[0m\u001b[0;34m\u001b[0m\u001b[0m\n",
            "\u001b[0;32m/usr/local/lib/python3.8/dist-packages/torch/nn/modules/module.py\u001b[0m in \u001b[0;36m_call_impl\u001b[0;34m(self, *input, **kwargs)\u001b[0m\n\u001b[1;32m   1192\u001b[0m         if not (self._backward_hooks or self._forward_hooks or self._forward_pre_hooks or _global_backward_hooks\n\u001b[1;32m   1193\u001b[0m                 or _global_forward_hooks or _global_forward_pre_hooks):\n\u001b[0;32m-> 1194\u001b[0;31m             \u001b[0;32mreturn\u001b[0m \u001b[0mforward_call\u001b[0m\u001b[0;34m(\u001b[0m\u001b[0;34m*\u001b[0m\u001b[0minput\u001b[0m\u001b[0;34m,\u001b[0m \u001b[0;34m**\u001b[0m\u001b[0mkwargs\u001b[0m\u001b[0;34m)\u001b[0m\u001b[0;34m\u001b[0m\u001b[0;34m\u001b[0m\u001b[0m\n\u001b[0m\u001b[1;32m   1195\u001b[0m         \u001b[0;31m# Do not call functions when jit is used\u001b[0m\u001b[0;34m\u001b[0m\u001b[0;34m\u001b[0m\u001b[0;34m\u001b[0m\u001b[0m\n\u001b[1;32m   1196\u001b[0m         \u001b[0mfull_backward_hooks\u001b[0m\u001b[0;34m,\u001b[0m \u001b[0mnon_full_backward_hooks\u001b[0m \u001b[0;34m=\u001b[0m \u001b[0;34m[\u001b[0m\u001b[0;34m]\u001b[0m\u001b[0;34m,\u001b[0m \u001b[0;34m[\u001b[0m\u001b[0;34m]\u001b[0m\u001b[0;34m\u001b[0m\u001b[0;34m\u001b[0m\u001b[0m\n",
            "\u001b[0;32m/usr/local/lib/python3.8/dist-packages/torch/nn/modules/loss.py\u001b[0m in \u001b[0;36mforward\u001b[0;34m(self, input, target)\u001b[0m\n\u001b[1;32m   1172\u001b[0m \u001b[0;34m\u001b[0m\u001b[0m\n\u001b[1;32m   1173\u001b[0m     \u001b[0;32mdef\u001b[0m \u001b[0mforward\u001b[0m\u001b[0;34m(\u001b[0m\u001b[0mself\u001b[0m\u001b[0;34m,\u001b[0m \u001b[0minput\u001b[0m\u001b[0;34m:\u001b[0m \u001b[0mTensor\u001b[0m\u001b[0;34m,\u001b[0m \u001b[0mtarget\u001b[0m\u001b[0;34m:\u001b[0m \u001b[0mTensor\u001b[0m\u001b[0;34m)\u001b[0m \u001b[0;34m->\u001b[0m \u001b[0mTensor\u001b[0m\u001b[0;34m:\u001b[0m\u001b[0;34m\u001b[0m\u001b[0;34m\u001b[0m\u001b[0m\n\u001b[0;32m-> 1174\u001b[0;31m         return F.cross_entropy(input, target, weight=self.weight,\n\u001b[0m\u001b[1;32m   1175\u001b[0m                                \u001b[0mignore_index\u001b[0m\u001b[0;34m=\u001b[0m\u001b[0mself\u001b[0m\u001b[0;34m.\u001b[0m\u001b[0mignore_index\u001b[0m\u001b[0;34m,\u001b[0m \u001b[0mreduction\u001b[0m\u001b[0;34m=\u001b[0m\u001b[0mself\u001b[0m\u001b[0;34m.\u001b[0m\u001b[0mreduction\u001b[0m\u001b[0;34m,\u001b[0m\u001b[0;34m\u001b[0m\u001b[0;34m\u001b[0m\u001b[0m\n\u001b[1;32m   1176\u001b[0m                                label_smoothing=self.label_smoothing)\n",
            "\u001b[0;32m/usr/local/lib/python3.8/dist-packages/torch/nn/functional.py\u001b[0m in \u001b[0;36mcross_entropy\u001b[0;34m(input, target, weight, size_average, ignore_index, reduce, reduction, label_smoothing)\u001b[0m\n\u001b[1;32m   3024\u001b[0m     \u001b[0;32mif\u001b[0m \u001b[0msize_average\u001b[0m \u001b[0;32mis\u001b[0m \u001b[0;32mnot\u001b[0m \u001b[0;32mNone\u001b[0m \u001b[0;32mor\u001b[0m \u001b[0mreduce\u001b[0m \u001b[0;32mis\u001b[0m \u001b[0;32mnot\u001b[0m \u001b[0;32mNone\u001b[0m\u001b[0;34m:\u001b[0m\u001b[0;34m\u001b[0m\u001b[0;34m\u001b[0m\u001b[0m\n\u001b[1;32m   3025\u001b[0m         \u001b[0mreduction\u001b[0m \u001b[0;34m=\u001b[0m \u001b[0m_Reduction\u001b[0m\u001b[0;34m.\u001b[0m\u001b[0mlegacy_get_string\u001b[0m\u001b[0;34m(\u001b[0m\u001b[0msize_average\u001b[0m\u001b[0;34m,\u001b[0m \u001b[0mreduce\u001b[0m\u001b[0;34m)\u001b[0m\u001b[0;34m\u001b[0m\u001b[0;34m\u001b[0m\u001b[0m\n\u001b[0;32m-> 3026\u001b[0;31m     \u001b[0;32mreturn\u001b[0m \u001b[0mtorch\u001b[0m\u001b[0;34m.\u001b[0m\u001b[0m_C\u001b[0m\u001b[0;34m.\u001b[0m\u001b[0m_nn\u001b[0m\u001b[0;34m.\u001b[0m\u001b[0mcross_entropy_loss\u001b[0m\u001b[0;34m(\u001b[0m\u001b[0minput\u001b[0m\u001b[0;34m,\u001b[0m \u001b[0mtarget\u001b[0m\u001b[0;34m,\u001b[0m \u001b[0mweight\u001b[0m\u001b[0;34m,\u001b[0m \u001b[0m_Reduction\u001b[0m\u001b[0;34m.\u001b[0m\u001b[0mget_enum\u001b[0m\u001b[0;34m(\u001b[0m\u001b[0mreduction\u001b[0m\u001b[0;34m)\u001b[0m\u001b[0;34m,\u001b[0m \u001b[0mignore_index\u001b[0m\u001b[0;34m,\u001b[0m \u001b[0mlabel_smoothing\u001b[0m\u001b[0;34m)\u001b[0m\u001b[0;34m\u001b[0m\u001b[0;34m\u001b[0m\u001b[0m\n\u001b[0m\u001b[1;32m   3027\u001b[0m \u001b[0;34m\u001b[0m\u001b[0m\n\u001b[1;32m   3028\u001b[0m \u001b[0;34m\u001b[0m\u001b[0m\n",
            "\u001b[0;31mValueError\u001b[0m: Expected input batch_size (9216) to match target batch_size (1024)."
          ]
        }
      ]
    }
  ]
}